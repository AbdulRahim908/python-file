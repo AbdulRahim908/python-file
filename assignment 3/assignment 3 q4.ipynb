{
 "cells": [
  {
   "cell_type": "code",
   "execution_count": 2,
   "id": "25fdefbf",
   "metadata": {},
   "outputs": [
    {
     "name": "stdout",
     "output_type": "stream",
     "text": [
      "enter radius of a circle! : 18\n",
      "the radius of a circle is 1018.0079999999999\n"
     ]
    }
   ],
   "source": [
    "pie=3.142\n",
    "r=int(input(\"enter radius of a circle! : \"))\n",
    "r2=r*r\n",
    "print(\"the radius of a circle is\" ,pie*r2)"
   ]
  },
  {
   "cell_type": "code",
   "execution_count": null,
   "id": "62ab1a43",
   "metadata": {},
   "outputs": [],
   "source": []
  }
 ],
 "metadata": {
  "kernelspec": {
   "display_name": "Python 3",
   "language": "python",
   "name": "python3"
  },
  "language_info": {
   "codemirror_mode": {
    "name": "ipython",
    "version": 3
   },
   "file_extension": ".py",
   "mimetype": "text/x-python",
   "name": "python",
   "nbconvert_exporter": "python",
   "pygments_lexer": "ipython3",
   "version": "3.8.8"
  }
 },
 "nbformat": 4,
 "nbformat_minor": 5
}
