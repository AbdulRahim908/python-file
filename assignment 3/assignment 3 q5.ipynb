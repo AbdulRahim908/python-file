{
 "cells": [
  {
   "cell_type": "code",
   "execution_count": 7,
   "id": "6cd8c628",
   "metadata": {},
   "outputs": [
    {
     "name": "stdout",
     "output_type": "stream",
     "text": [
      "Enter Your First Name: abdul\n",
      "Enter Your Last Name:rahim\n",
      "rahim   abdul\n"
     ]
    }
   ],
   "source": [
    "F=input(\"Enter Your First Name: \")\n",
    "L=input('Enter Your Last Name:')\n",
    "print(L,\" \" ,F)"
   ]
  },
  {
   "cell_type": "code",
   "execution_count": null,
   "id": "843ba990",
   "metadata": {},
   "outputs": [],
   "source": []
  }
 ],
 "metadata": {
  "kernelspec": {
   "display_name": "Python 3",
   "language": "python",
   "name": "python3"
  },
  "language_info": {
   "codemirror_mode": {
    "name": "ipython",
    "version": 3
   },
   "file_extension": ".py",
   "mimetype": "text/x-python",
   "name": "python",
   "nbconvert_exporter": "python",
   "pygments_lexer": "ipython3",
   "version": "3.8.8"
  }
 },
 "nbformat": 4,
 "nbformat_minor": 5
}
