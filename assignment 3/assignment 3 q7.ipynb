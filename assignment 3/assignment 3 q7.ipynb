{
 "cells": [
  {
   "cell_type": "code",
   "execution_count": 2,
   "id": "8b91abc7",
   "metadata": {},
   "outputs": [
    {
     "name": "stdout",
     "output_type": "stream",
     "text": [
      "enter your number: 90\n",
      "enter your number: 69\n",
      "enter your number: 75\n",
      "enter your number: 90\n",
      "enter your number: 78\n",
      "Grade A+\n"
     ]
    }
   ],
   "source": [
    "English=int(input(\"enter your number: \"))\n",
    "Math=int(input(\"enter your number: \"))\n",
    "Stats=int(input(\"enter your number: \"))\n",
    "Islamiat=int(input(\"enter your number: \"))\n",
    "Computer=int(input(\"enter your number: \"))\n",
    "Total=500\n",
    "percentage=((English+Math+Stats+Islamiat+Computer)/Total)*100\n",
    "if percentage > 100 and percentage <0:\n",
    "    print(\"you make a mistake in inputs\")\n",
    "elif percentage <100 and percentage >= 80:\n",
    "    print(\"Grade A+\")\n",
    "elif percentage <80 and percentage >= 70:\n",
    "    print(\"Grade A\")\n",
    "elif percentage <70 and percentage >= 60:\n",
    "    print(\"Grade B\")\n",
    "elif percentage <60 and percentage >= 50:\n",
    "    print(\"Grade C\")\n",
    "elif percentage <50 and percentage >= 40:\n",
    "    print(\"Grade D\")\n",
    "elif percentage <40 and percentage >= 33:\n",
    "    print(\"Grade E\")\n",
    "else:\n",
    "    print(\"FAIL\")"
   ]
  }
 ],
 "metadata": {
  "kernelspec": {
   "display_name": "Python 3",
   "language": "python",
   "name": "python3"
  },
  "language_info": {
   "codemirror_mode": {
    "name": "ipython",
    "version": 3
   },
   "file_extension": ".py",
   "mimetype": "text/x-python",
   "name": "python",
   "nbconvert_exporter": "python",
   "pygments_lexer": "ipython3",
   "version": "3.8.8"
  }
 },
 "nbformat": 4,
 "nbformat_minor": 5
}
